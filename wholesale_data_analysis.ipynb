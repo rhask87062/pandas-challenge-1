{
 "cells": [
  {
   "cell_type": "markdown",
   "id": "dc0318d6",
   "metadata": {},
   "source": [
    "## Part 1: Explore the Data\n",
    "\n",
    "Import the data and use Pandas to learn more about the dataset."
   ]
  },
  {
   "cell_type": "code",
   "execution_count": 1,
   "id": "e076f57f",
   "metadata": {},
   "outputs": [
    {
     "data": {
      "text/html": [
       "<div>\n",
       "<style scoped>\n",
       "    .dataframe tbody tr th:only-of-type {\n",
       "        vertical-align: middle;\n",
       "    }\n",
       "\n",
       "    .dataframe tbody tr th {\n",
       "        vertical-align: top;\n",
       "    }\n",
       "\n",
       "    .dataframe thead th {\n",
       "        text-align: right;\n",
       "    }\n",
       "</style>\n",
       "<table border=\"1\" class=\"dataframe\">\n",
       "  <thead>\n",
       "    <tr style=\"text-align: right;\">\n",
       "      <th></th>\n",
       "      <th>first</th>\n",
       "      <th>last</th>\n",
       "      <th>job</th>\n",
       "      <th>phone</th>\n",
       "      <th>email</th>\n",
       "      <th>client_id</th>\n",
       "      <th>order_id</th>\n",
       "      <th>order_date</th>\n",
       "      <th>order_week</th>\n",
       "      <th>order_year</th>\n",
       "      <th>item_id</th>\n",
       "      <th>category</th>\n",
       "      <th>subcategory</th>\n",
       "      <th>unit_price</th>\n",
       "      <th>unit_cost</th>\n",
       "      <th>unit_weight</th>\n",
       "      <th>qty</th>\n",
       "      <th>line_number</th>\n",
       "    </tr>\n",
       "  </thead>\n",
       "  <tbody>\n",
       "    <tr>\n",
       "      <th>0</th>\n",
       "      <td>Donald</td>\n",
       "      <td>Harding</td>\n",
       "      <td>Immunologist</td>\n",
       "      <td>793-904-7725x39308</td>\n",
       "      <td>harding.donald.7185@sullivan.com</td>\n",
       "      <td>58515</td>\n",
       "      <td>8953482</td>\n",
       "      <td>2023-04-28</td>\n",
       "      <td>17</td>\n",
       "      <td>2023</td>\n",
       "      <td>EUD29711-63-6U</td>\n",
       "      <td>decor</td>\n",
       "      <td>wall art</td>\n",
       "      <td>1096.80</td>\n",
       "      <td>762.71</td>\n",
       "      <td>7.50</td>\n",
       "      <td>105</td>\n",
       "      <td>1</td>\n",
       "    </tr>\n",
       "    <tr>\n",
       "      <th>1</th>\n",
       "      <td>Tiffany</td>\n",
       "      <td>Myers</td>\n",
       "      <td>Music therapist</td>\n",
       "      <td>201.442.4543x942</td>\n",
       "      <td>myers.t.6537@ferguson-johnson.net</td>\n",
       "      <td>37609</td>\n",
       "      <td>8069089</td>\n",
       "      <td>2023-05-19</td>\n",
       "      <td>20</td>\n",
       "      <td>2023</td>\n",
       "      <td>XDA18116-89-4A</td>\n",
       "      <td>consumables</td>\n",
       "      <td>pens</td>\n",
       "      <td>24.95</td>\n",
       "      <td>15.09</td>\n",
       "      <td>1.49</td>\n",
       "      <td>21</td>\n",
       "      <td>0</td>\n",
       "    </tr>\n",
       "    <tr>\n",
       "      <th>2</th>\n",
       "      <td>Shannon</td>\n",
       "      <td>Watson</td>\n",
       "      <td>Immunologist</td>\n",
       "      <td>687.737.9424x8503</td>\n",
       "      <td>swatson8146@payne.net</td>\n",
       "      <td>57113</td>\n",
       "      <td>1902144</td>\n",
       "      <td>2023-01-29</td>\n",
       "      <td>4</td>\n",
       "      <td>2023</td>\n",
       "      <td>ABE59463-05-7E</td>\n",
       "      <td>software</td>\n",
       "      <td>project management</td>\n",
       "      <td>13.52</td>\n",
       "      <td>7.86</td>\n",
       "      <td>1.68</td>\n",
       "      <td>39</td>\n",
       "      <td>6</td>\n",
       "    </tr>\n",
       "    <tr>\n",
       "      <th>3</th>\n",
       "      <td>Nathan</td>\n",
       "      <td>Baker</td>\n",
       "      <td>Accounting technician</td>\n",
       "      <td>827-788-8123x012</td>\n",
       "      <td>bakernathan@benson.com</td>\n",
       "      <td>46554</td>\n",
       "      <td>9031802</td>\n",
       "      <td>2023-04-25</td>\n",
       "      <td>17</td>\n",
       "      <td>2023</td>\n",
       "      <td>ZMM00836-65-0C</td>\n",
       "      <td>consumables</td>\n",
       "      <td>pens</td>\n",
       "      <td>36.42</td>\n",
       "      <td>24.85</td>\n",
       "      <td>1.23</td>\n",
       "      <td>29</td>\n",
       "      <td>3</td>\n",
       "    </tr>\n",
       "    <tr>\n",
       "      <th>4</th>\n",
       "      <td>Christina</td>\n",
       "      <td>Schwartz</td>\n",
       "      <td>Chiropractor</td>\n",
       "      <td>265-829-3643</td>\n",
       "      <td>christinaschwartz9252@mcconnell.com</td>\n",
       "      <td>92089</td>\n",
       "      <td>1322274</td>\n",
       "      <td>2023-05-28</td>\n",
       "      <td>21</td>\n",
       "      <td>2023</td>\n",
       "      <td>BZX55559-12-3X</td>\n",
       "      <td>consumables</td>\n",
       "      <td>misc</td>\n",
       "      <td>195.10</td>\n",
       "      <td>108.17</td>\n",
       "      <td>46.43</td>\n",
       "      <td>20</td>\n",
       "      <td>1</td>\n",
       "    </tr>\n",
       "  </tbody>\n",
       "</table>\n",
       "</div>"
      ],
      "text/plain": [
       "       first      last                    job               phone  \\\n",
       "0     Donald   Harding           Immunologist  793-904-7725x39308   \n",
       "1    Tiffany     Myers        Music therapist    201.442.4543x942   \n",
       "2    Shannon    Watson           Immunologist   687.737.9424x8503   \n",
       "3     Nathan     Baker  Accounting technician    827-788-8123x012   \n",
       "4  Christina  Schwartz           Chiropractor        265-829-3643   \n",
       "\n",
       "                                 email  client_id  order_id  order_date  \\\n",
       "0     harding.donald.7185@sullivan.com      58515   8953482  2023-04-28   \n",
       "1    myers.t.6537@ferguson-johnson.net      37609   8069089  2023-05-19   \n",
       "2                swatson8146@payne.net      57113   1902144  2023-01-29   \n",
       "3               bakernathan@benson.com      46554   9031802  2023-04-25   \n",
       "4  christinaschwartz9252@mcconnell.com      92089   1322274  2023-05-28   \n",
       "\n",
       "   order_week  order_year         item_id     category         subcategory  \\\n",
       "0          17        2023  EUD29711-63-6U        decor            wall art   \n",
       "1          20        2023  XDA18116-89-4A  consumables                pens   \n",
       "2           4        2023  ABE59463-05-7E     software  project management   \n",
       "3          17        2023  ZMM00836-65-0C  consumables                pens   \n",
       "4          21        2023  BZX55559-12-3X  consumables                misc   \n",
       "\n",
       "   unit_price  unit_cost  unit_weight  qty  line_number  \n",
       "0     1096.80     762.71         7.50  105            1  \n",
       "1       24.95      15.09         1.49   21            0  \n",
       "2       13.52       7.86         1.68   39            6  \n",
       "3       36.42      24.85         1.23   29            3  \n",
       "4      195.10     108.17        46.43   20            1  "
      ]
     },
     "execution_count": 1,
     "metadata": {},
     "output_type": "execute_result"
    }
   ],
   "source": [
    "import pandas as pd\n",
    "\n",
    "df = pd.read_csv('Resources/client_dataset.csv')\n",
    "df.head()"
   ]
  },
  {
   "cell_type": "code",
   "execution_count": 2,
   "id": "71b9bbd2",
   "metadata": {},
   "outputs": [
    {
     "name": "stdout",
     "output_type": "stream",
     "text": [
      "Index(['first', 'last', 'job', 'phone', 'email', 'client_id', 'order_id',\n",
      "       'order_date', 'order_week', 'order_year', 'item_id', 'category',\n",
      "       'subcategory', 'unit_price', 'unit_cost', 'unit_weight', 'qty',\n",
      "       'line_number'],\n",
      "      dtype='object')\n"
     ]
    }
   ],
   "source": [
    "# View the column names in the data\n",
    "print(df.columns)"
   ]
  },
  {
   "cell_type": "code",
   "execution_count": 3,
   "id": "bc0f4172",
   "metadata": {},
   "outputs": [
    {
     "name": "stdout",
     "output_type": "stream",
     "text": [
      "          client_id      order_id    order_week    order_year    unit_price  \\\n",
      "count  54639.000000  5.463900e+04  54639.000000  54639.000000  54639.000000   \n",
      "mean   54837.869416  5.470190e+06     11.359139   2022.993064    136.267207   \n",
      "std    25487.438231  2.599807e+06      7.023499      0.082997    183.873135   \n",
      "min    10033.000000  1.000886e+06      1.000000   2022.000000      0.010000   \n",
      "25%    33593.000000  3.196372e+06      6.000000   2023.000000     20.800000   \n",
      "50%    53305.000000  5.496966e+06     11.000000   2023.000000     68.310000   \n",
      "75%    78498.000000  7.733869e+06     17.000000   2023.000000    173.160000   \n",
      "max    99984.000000  9.998480e+06     52.000000   2023.000000   1396.230000   \n",
      "\n",
      "          unit_cost   unit_weight           qty   line_number  \n",
      "count  54639.000000  54639.000000  5.463900e+04  54639.000000  \n",
      "mean      99.446073      5.004116  5.702646e+02      2.979667  \n",
      "std      133.164267      5.326599  1.879552e+04      2.436320  \n",
      "min        0.010000      0.000000  0.000000e+00      0.000000  \n",
      "25%       14.840000      1.450000  3.200000e+01      1.000000  \n",
      "50%       49.890000      3.240000  6.800000e+01      3.000000  \n",
      "75%      125.570000      6.890000  1.700000e+02      5.000000  \n",
      "max      846.270000     46.430000  3.958244e+06      9.000000  \n"
     ]
    }
   ],
   "source": [
    "# Use the describe function to gather some basic statistics\n",
    "stats = df.describe()\n",
    "print(stats)"
   ]
  },
  {
   "cell_type": "code",
   "execution_count": 4,
   "id": "b24b53cc",
   "metadata": {},
   "outputs": [
    {
     "data": {
      "text/plain": [
       "<bound method IndexOpsMixin.value_counts of 0        8953482\n",
       "1        8069089\n",
       "2        1902144\n",
       "3        9031802\n",
       "4        1322274\n",
       "          ...   \n",
       "54634    9021716\n",
       "54635    6290153\n",
       "54636    8692622\n",
       "54637    7592730\n",
       "54638    7489403\n",
       "Name: order_id, Length: 54639, dtype: int64>"
      ]
     },
     "execution_count": 4,
     "metadata": {},
     "output_type": "execute_result"
    }
   ],
   "source": [
    "# Use this space to do any additional research\n",
    "# and familiarize yourself with the data.\n",
    "df.dtypes\n",
    "df['order_id'].value_counts"
   ]
  },
  {
   "cell_type": "code",
   "execution_count": 5,
   "id": "551cb358",
   "metadata": {},
   "outputs": [
    {
     "name": "stdout",
     "output_type": "stream",
     "text": [
      "first    54639\n",
      "last     54639\n",
      "job      54639\n",
      "dtype: int64\n"
     ]
    }
   ],
   "source": [
    "# What three item categories had the most entries?\n",
    "#~Count non-null entries.\n",
    "non_null_counts = df.count()\n",
    "\n",
    "#~Select the three columns with the most entries.\n",
    "top_3 = non_null_counts.nlargest(3)\n",
    "print(top_3)"
   ]
  },
  {
   "cell_type": "code",
   "execution_count": 6,
   "id": "5f54e2cf",
   "metadata": {},
   "outputs": [
    {
     "name": "stdout",
     "output_type": "stream",
     "text": [
      "first    54639\n",
      "dtype: int64\n"
     ]
    }
   ],
   "source": [
    "# For the category with the most entries, which subcategory had the most entries?\n",
    "sub_entries = top_3.nlargest(1)\n",
    "print(sub_entries)"
   ]
  },
  {
   "cell_type": "code",
   "execution_count": 7,
   "id": "2db94379",
   "metadata": {},
   "outputs": [
    {
     "data": {
      "text/plain": [
       "client_id\n",
       "33615    220\n",
       "66037    211\n",
       "46820    209\n",
       "38378    207\n",
       "24741    207\n",
       "Name: count, dtype: int64"
      ]
     },
     "execution_count": 7,
     "metadata": {},
     "output_type": "execute_result"
    }
   ],
   "source": [
    "# Which five clients had the most entries in the data?\n",
    "#~order the counts based on the number of instances of the clients order data.\n",
    "most_entries = df['client_id'].value_counts()\n",
    "#~print the top 5 entries with the .head command.\n",
    "most_entries.head()"
   ]
  },
  {
   "cell_type": "code",
   "execution_count": 8,
   "id": "a6635601",
   "metadata": {},
   "outputs": [
    {
     "data": {
      "text/plain": [
       "[33615, 66037, 46820, 38378, 24741]"
      ]
     },
     "execution_count": 8,
     "metadata": {},
     "output_type": "execute_result"
    }
   ],
   "source": [
    "# Store the client ids of those top 5 clients in a list.\n",
    "#~For some reason the earlier command is displaying the number of times the top 5 clients show up in the data. I need it to display the clients IDs not the quantities.\n",
    "top_5_clients = list(df['client_id'].value_counts().head(5).index)\n",
    "top_5_clients\n"
   ]
  },
  {
   "cell_type": "code",
   "execution_count": 9,
   "id": "c88b8a3e",
   "metadata": {},
   "outputs": [
    {
     "name": "stdout",
     "output_type": "stream",
     "text": [
      "64313\n"
     ]
    }
   ],
   "source": [
    "# How many total units (the qty column) did the client with the most entries order?\n",
    "#~ Identify the current most frequently entered customer ID.\n",
    "num1client = most_entries.idxmax()\n",
    "\n",
    "#~ Select all of order quantities from every transaction with the number 1 client and assign them a variable.\n",
    "counts = df.loc[df['client_id'] == num1client, 'qty'].tolist()\n",
    "\n",
    "#~ Create a variable for the sum of all of the order quantities.\n",
    "total_count = sum(counts)\n",
    "\n",
    "#~ return the total number of units ordered by the number 1 client.\n",
    "print(total_count)\n"
   ]
  },
  {
   "cell_type": "markdown",
   "id": "257fcd7d",
   "metadata": {},
   "source": [
    "## Part 2: Transform the Data\n",
    "Do we know that this client spent the more money than client 66037? If not, how would we find out? Transform the data using the steps below to prepare it for analysis."
   ]
  },
  {
   "cell_type": "code",
   "execution_count": 10,
   "id": "0c25c4a8",
   "metadata": {},
   "outputs": [
    {
     "name": "stdout",
     "output_type": "stream",
     "text": [
      "       unit_price   qty   subtotal\n",
      "0         1096.80   105  115164.00\n",
      "1           24.95    21     523.95\n",
      "2           13.52    39     527.28\n",
      "3           36.42    29    1056.18\n",
      "4          195.10    20    3902.00\n",
      "...           ...   ...        ...\n",
      "54634       83.13    33    2743.29\n",
      "54635      206.59    47    9709.73\n",
      "54636       65.66   475   31188.50\n",
      "54637        1.48   112     165.76\n",
      "54638        3.01  1031    3103.31\n",
      "\n",
      "[54639 rows x 3 columns]\n"
     ]
    }
   ],
   "source": [
    "# Create a column that calculates the subtotal for each line using the unit_price and the qty\n",
    "df['subtotal'] = df['unit_price'] * df['qty']\n",
    "\n",
    "print(df[['unit_price', 'qty', 'subtotal']])"
   ]
  },
  {
   "cell_type": "code",
   "execution_count": 11,
   "id": "ac9dafc8",
   "metadata": {},
   "outputs": [
    {
     "name": "stdout",
     "output_type": "stream",
     "text": [
      "       unit_weight   qty  shipping_weight  shipping_price\n",
      "0             7.50   105           787.50         5512.50\n",
      "1             1.49    21            31.29          312.90\n",
      "2             1.68    39            65.52          458.64\n",
      "3             1.23    29            35.67          356.70\n",
      "4            46.43    20           928.60         6500.20\n",
      "...            ...   ...              ...             ...\n",
      "54634         2.25    33            74.25          519.75\n",
      "54635        11.70    47           549.90         3849.30\n",
      "54636         4.16   475          1976.00        13832.00\n",
      "54637        18.04   112          2020.48        14143.36\n",
      "54638         2.07  1031          2134.17        14939.19\n",
      "\n",
      "[54639 rows x 4 columns]\n"
     ]
    }
   ],
   "source": [
    "# Create a column for shipping price.\n",
    "# Assume a shipping price of $7 per pound for orders over 50 pounds and $10 per pound for items 50 pounds or under.\n",
    "df['shipping_weight'] = df['unit_weight'] * df['qty']\n",
    "\n",
    "df['shipping_price'] = df.apply(\n",
    "    lambda row: row['shipping_weight'] * 7 if row['shipping_weight'] > 50 \n",
    "    else row['shipping_weight'] * 10, axis=1\n",
    "    )\n",
    "\n",
    "print(df[['unit_weight', 'qty', 'shipping_weight', 'shipping_price']])"
   ]
  },
  {
   "cell_type": "code",
   "execution_count": 12,
   "id": "77f42c67",
   "metadata": {},
   "outputs": [
    {
     "data": {
      "text/plain": [
       "0        131839.076250\n",
       "1           914.258625\n",
       "2          1077.117600\n",
       "3          1543.571400\n",
       "4         11364.403500\n",
       "             ...      \n",
       "54634      3564.871200\n",
       "54635     14813.240275\n",
       "54636     49184.896250\n",
       "54637     15632.713600\n",
       "54638     19711.431250\n",
       "Name: total, Length: 54639, dtype: float64"
      ]
     },
     "execution_count": 12,
     "metadata": {},
     "output_type": "execute_result"
    }
   ],
   "source": [
    "# Create a column for the total price using the subtotal and the shipping price along with a sales tax of 9.25%.\n",
    "#define tax rate.\n",
    "df['tax_rate'] = float(.0925)\n",
    "\n",
    "#Define calculated tax.\n",
    "df['tax'] = df['tax_rate'] * (df['shipping_price'] + df['subtotal'])\n",
    "\n",
    "#Define total.\n",
    "df['total'] = df['tax'] + df['subtotal'] + df['shipping_price']\n",
    "\n",
    "#Retun the total.\n",
    "df[\"total\"]"
   ]
  },
  {
   "cell_type": "code",
   "execution_count": 13,
   "id": "c82ad275",
   "metadata": {},
   "outputs": [
    {
     "data": {
      "text/html": [
       "<div>\n",
       "<style scoped>\n",
       "    .dataframe tbody tr th:only-of-type {\n",
       "        vertical-align: middle;\n",
       "    }\n",
       "\n",
       "    .dataframe tbody tr th {\n",
       "        vertical-align: top;\n",
       "    }\n",
       "\n",
       "    .dataframe thead th {\n",
       "        text-align: right;\n",
       "    }\n",
       "</style>\n",
       "<table border=\"1\" class=\"dataframe\">\n",
       "  <thead>\n",
       "    <tr style=\"text-align: right;\">\n",
       "      <th></th>\n",
       "      <th>unit_weight</th>\n",
       "      <th>qty</th>\n",
       "      <th>shipping_weight</th>\n",
       "      <th>shipping_price</th>\n",
       "      <th>subtotal</th>\n",
       "      <th>tax</th>\n",
       "      <th>line_total</th>\n",
       "    </tr>\n",
       "  </thead>\n",
       "  <tbody>\n",
       "    <tr>\n",
       "      <th>0</th>\n",
       "      <td>7.50</td>\n",
       "      <td>105</td>\n",
       "      <td>787.50</td>\n",
       "      <td>5512.50</td>\n",
       "      <td>115164.00</td>\n",
       "      <td>11162.576250</td>\n",
       "      <td>247003.076250</td>\n",
       "    </tr>\n",
       "    <tr>\n",
       "      <th>1</th>\n",
       "      <td>1.49</td>\n",
       "      <td>21</td>\n",
       "      <td>31.29</td>\n",
       "      <td>312.90</td>\n",
       "      <td>523.95</td>\n",
       "      <td>77.408625</td>\n",
       "      <td>1438.208625</td>\n",
       "    </tr>\n",
       "    <tr>\n",
       "      <th>2</th>\n",
       "      <td>1.68</td>\n",
       "      <td>39</td>\n",
       "      <td>65.52</td>\n",
       "      <td>458.64</td>\n",
       "      <td>527.28</td>\n",
       "      <td>91.197600</td>\n",
       "      <td>1604.397600</td>\n",
       "    </tr>\n",
       "    <tr>\n",
       "      <th>3</th>\n",
       "      <td>1.23</td>\n",
       "      <td>29</td>\n",
       "      <td>35.67</td>\n",
       "      <td>356.70</td>\n",
       "      <td>1056.18</td>\n",
       "      <td>130.691400</td>\n",
       "      <td>2599.751400</td>\n",
       "    </tr>\n",
       "    <tr>\n",
       "      <th>4</th>\n",
       "      <td>46.43</td>\n",
       "      <td>20</td>\n",
       "      <td>928.60</td>\n",
       "      <td>6500.20</td>\n",
       "      <td>3902.00</td>\n",
       "      <td>962.203500</td>\n",
       "      <td>15266.403500</td>\n",
       "    </tr>\n",
       "    <tr>\n",
       "      <th>...</th>\n",
       "      <td>...</td>\n",
       "      <td>...</td>\n",
       "      <td>...</td>\n",
       "      <td>...</td>\n",
       "      <td>...</td>\n",
       "      <td>...</td>\n",
       "      <td>...</td>\n",
       "    </tr>\n",
       "    <tr>\n",
       "      <th>54634</th>\n",
       "      <td>2.25</td>\n",
       "      <td>33</td>\n",
       "      <td>74.25</td>\n",
       "      <td>519.75</td>\n",
       "      <td>2743.29</td>\n",
       "      <td>301.831200</td>\n",
       "      <td>6308.161200</td>\n",
       "    </tr>\n",
       "    <tr>\n",
       "      <th>54635</th>\n",
       "      <td>11.70</td>\n",
       "      <td>47</td>\n",
       "      <td>549.90</td>\n",
       "      <td>3849.30</td>\n",
       "      <td>9709.73</td>\n",
       "      <td>1254.210275</td>\n",
       "      <td>24522.970275</td>\n",
       "    </tr>\n",
       "    <tr>\n",
       "      <th>54636</th>\n",
       "      <td>4.16</td>\n",
       "      <td>475</td>\n",
       "      <td>1976.00</td>\n",
       "      <td>13832.00</td>\n",
       "      <td>31188.50</td>\n",
       "      <td>4164.396250</td>\n",
       "      <td>80373.396250</td>\n",
       "    </tr>\n",
       "    <tr>\n",
       "      <th>54637</th>\n",
       "      <td>18.04</td>\n",
       "      <td>112</td>\n",
       "      <td>2020.48</td>\n",
       "      <td>14143.36</td>\n",
       "      <td>165.76</td>\n",
       "      <td>1323.593600</td>\n",
       "      <td>15798.473600</td>\n",
       "    </tr>\n",
       "    <tr>\n",
       "      <th>54638</th>\n",
       "      <td>2.07</td>\n",
       "      <td>1031</td>\n",
       "      <td>2134.17</td>\n",
       "      <td>14939.19</td>\n",
       "      <td>3103.31</td>\n",
       "      <td>1668.931250</td>\n",
       "      <td>22814.741250</td>\n",
       "    </tr>\n",
       "  </tbody>\n",
       "</table>\n",
       "<p>54639 rows × 7 columns</p>\n",
       "</div>"
      ],
      "text/plain": [
       "       unit_weight   qty  shipping_weight  shipping_price   subtotal  \\\n",
       "0             7.50   105           787.50         5512.50  115164.00   \n",
       "1             1.49    21            31.29          312.90     523.95   \n",
       "2             1.68    39            65.52          458.64     527.28   \n",
       "3             1.23    29            35.67          356.70    1056.18   \n",
       "4            46.43    20           928.60         6500.20    3902.00   \n",
       "...            ...   ...              ...             ...        ...   \n",
       "54634         2.25    33            74.25          519.75    2743.29   \n",
       "54635        11.70    47           549.90         3849.30    9709.73   \n",
       "54636         4.16   475          1976.00        13832.00   31188.50   \n",
       "54637        18.04   112          2020.48        14143.36     165.76   \n",
       "54638         2.07  1031          2134.17        14939.19    3103.31   \n",
       "\n",
       "                tax     line_total  \n",
       "0      11162.576250  247003.076250  \n",
       "1         77.408625    1438.208625  \n",
       "2         91.197600    1604.397600  \n",
       "3        130.691400    2599.751400  \n",
       "4        962.203500   15266.403500  \n",
       "...             ...            ...  \n",
       "54634    301.831200    6308.161200  \n",
       "54635   1254.210275   24522.970275  \n",
       "54636   4164.396250   80373.396250  \n",
       "54637   1323.593600   15798.473600  \n",
       "54638   1668.931250   22814.741250  \n",
       "\n",
       "[54639 rows x 7 columns]"
      ]
     },
     "execution_count": 13,
     "metadata": {},
     "output_type": "execute_result"
    }
   ],
   "source": [
    "# Create a column for the cost of each line using unit cost, qty, and\n",
    "# shipping price (assume the shipping cost is exactly what is charged to the client).\n",
    "#define line total.\n",
    "df['line_total'] = (df[\n",
    "'subtotal'] + df['shipping_price'] + df['tax']) + df['subtotal']\n",
    "#return the line total.\n",
    "df[['unit_weight', 'qty', 'shipping_weight', 'shipping_price', 'subtotal', 'tax', 'line_total']]"
   ]
  },
  {
   "cell_type": "code",
   "execution_count": 14,
   "id": "e2389018",
   "metadata": {},
   "outputs": [
    {
     "name": "stdout",
     "output_type": "stream",
     "text": [
      "0        230328.00\n",
      "1          1047.90\n",
      "2          1054.56\n",
      "3          2112.36\n",
      "4          7804.00\n",
      "           ...    \n",
      "54634      5486.58\n",
      "54635     19419.46\n",
      "54636     62377.00\n",
      "54637       331.52\n",
      "54638      6206.62\n",
      "Name: profit, Length: 54639, dtype: float64\n"
     ]
    }
   ],
   "source": [
    "# Create a column for the profit of each line using line cost and line price\n",
    "df['profit'] = df['line_total'] - df['shipping_price'] - df['tax']\n",
    "\n",
    "#Return the result.\n",
    "print(df['profit'])\n"
   ]
  },
  {
   "cell_type": "markdown",
   "id": "ef6f62b1",
   "metadata": {},
   "source": [
    "## Part 3: Confirm your work\n",
    "You have email receipts showing that the total prices for 3 orders. Confirm that your calculations match the receipts. Remember, each order has multiple lines.\n",
    "\n",
    "Order ID 2742071 had a total price of \\$152,811.89\n",
    "\n",
    "Order ID 2173913 had a total price of \\$162,388.71\n",
    "\n",
    "Order ID 6128929 had a total price of \\$923,441.25\n"
   ]
  },
  {
   "cell_type": "code",
   "execution_count": 15,
   "id": "c0e5d68e",
   "metadata": {},
   "outputs": [
    {
     "name": "stdout",
     "output_type": "stream",
     "text": [
      "       work_conf          total\n",
      "0          58515  131839.076250\n",
      "1          37609     914.258625\n",
      "2          57113    1077.117600\n",
      "3          46554    1543.571400\n",
      "4          92089   11364.403500\n",
      "...          ...            ...\n",
      "54634      29043    3564.871200\n",
      "54635      41908   14813.240275\n",
      "54636      35176   49184.896250\n",
      "54637      24485   15632.713600\n",
      "54638      24007   19711.431250\n",
      "\n",
      "[54639 rows x 2 columns]\n"
     ]
    }
   ],
   "source": [
    "# Check your work using the totals above\n",
    "df['work_conf'] = df.iloc[0:, 5]\n",
    "\n",
    "print(df[['work_conf', 'total']])"
   ]
  },
  {
   "cell_type": "markdown",
   "id": "b94d58ab",
   "metadata": {},
   "source": [
    "## Part 4: Summarize and Analyze\n",
    "Use the new columns with confirmed values to find the following information."
   ]
  },
  {
   "cell_type": "code",
   "execution_count": 16,
   "id": "7c005f34",
   "metadata": {},
   "outputs": [
    {
     "name": "stdout",
     "output_type": "stream",
     "text": [
      "33615: $8377308.57\n",
      "66037: $10259514.8\n",
      "46820: $9743794.32\n",
      "38378: $12906550.88\n",
      "24741: $82268891.98\n"
     ]
    }
   ],
   "source": [
    "# How much did each of the top 5 clients by quantity spend? Check your work from Part 1 for client ids.\n",
    "def top_5(client_id, column): \n",
    "    client_df = df.loc[df['client_id'] == client_id, column]\n",
    "    return round(client_df.sum(), 2)\n",
    "\n",
    "for x in top_5_clients:\n",
    "    print(f\"{x}: ${top_5(x, 'total')}\")\n"
   ]
  },
  {
   "cell_type": "code",
   "execution_count": 17,
   "id": "81b6e4d2",
   "metadata": {},
   "outputs": [
    {
     "data": {
      "text/html": [
       "<div>\n",
       "<style scoped>\n",
       "    .dataframe tbody tr th:only-of-type {\n",
       "        vertical-align: middle;\n",
       "    }\n",
       "\n",
       "    .dataframe tbody tr th {\n",
       "        vertical-align: top;\n",
       "    }\n",
       "\n",
       "    .dataframe thead th {\n",
       "        text-align: right;\n",
       "    }\n",
       "</style>\n",
       "<table border=\"1\" class=\"dataframe\">\n",
       "  <thead>\n",
       "    <tr style=\"text-align: right;\">\n",
       "      <th></th>\n",
       "      <th>client_id</th>\n",
       "      <th>qty</th>\n",
       "      <th>shipping_price</th>\n",
       "      <th>subtotal</th>\n",
       "      <th>unit_cost</th>\n",
       "      <th>profit</th>\n",
       "    </tr>\n",
       "  </thead>\n",
       "  <tbody>\n",
       "    <tr>\n",
       "      <th>0</th>\n",
       "      <td>24741</td>\n",
       "      <td>239862</td>\n",
       "      <td>5126448.37</td>\n",
       "      <td>70176885.25</td>\n",
       "      <td>17900.04</td>\n",
       "      <td>1.403538e+08</td>\n",
       "    </tr>\n",
       "    <tr>\n",
       "      <th>1</th>\n",
       "      <td>33615</td>\n",
       "      <td>64313</td>\n",
       "      <td>1828984.89</td>\n",
       "      <td>5839032.11</td>\n",
       "      <td>21716.88</td>\n",
       "      <td>1.167806e+07</td>\n",
       "    </tr>\n",
       "    <tr>\n",
       "      <th>2</th>\n",
       "      <td>38378</td>\n",
       "      <td>73667</td>\n",
       "      <td>3429455.40</td>\n",
       "      <td>8384321.15</td>\n",
       "      <td>21702.21</td>\n",
       "      <td>1.676864e+07</td>\n",
       "    </tr>\n",
       "    <tr>\n",
       "      <th>3</th>\n",
       "      <td>46820</td>\n",
       "      <td>75768</td>\n",
       "      <td>1601448.84</td>\n",
       "      <td>7317356.03</td>\n",
       "      <td>18140.06</td>\n",
       "      <td>1.463471e+07</td>\n",
       "    </tr>\n",
       "    <tr>\n",
       "      <th>4</th>\n",
       "      <td>66037</td>\n",
       "      <td>43018</td>\n",
       "      <td>1395151.85</td>\n",
       "      <td>7995708.38</td>\n",
       "      <td>21508.98</td>\n",
       "      <td>1.599142e+07</td>\n",
       "    </tr>\n",
       "  </tbody>\n",
       "</table>\n",
       "</div>"
      ],
      "text/plain": [
       "   client_id     qty  shipping_price     subtotal  unit_cost        profit\n",
       "0      24741  239862      5126448.37  70176885.25   17900.04  1.403538e+08\n",
       "1      33615   64313      1828984.89   5839032.11   21716.88  1.167806e+07\n",
       "2      38378   73667      3429455.40   8384321.15   21702.21  1.676864e+07\n",
       "3      46820   75768      1601448.84   7317356.03   18140.06  1.463471e+07\n",
       "4      66037   43018      1395151.85   7995708.38   21508.98  1.599142e+07"
      ]
     },
     "execution_count": 17,
     "metadata": {},
     "output_type": "execute_result"
    }
   ],
   "source": [
    "# Create a summary DataFrame showing the totals for the for the top 5 clients with the following information:\n",
    "# total units purchased, total shipping price, total revenue, and total profit. \n",
    "data_dict = {'client_id': top_5_clients}\n",
    "top_5_data = df[df['client_id'].isin(top_5_clients)]\n",
    "\n",
    "summary_data = top_5_data.groupby('client_id').agg({\n",
    "                                                    'qty':'sum',\n",
    "                                                    'shipping_price':'sum',\n",
    "                                                    'subtotal':'sum',\n",
    "                                                    'unit_cost':'sum',\n",
    "                                                    'profit':'sum'\n",
    "                                                    }).reset_index()\n",
    "summary_data"
   ]
  },
  {
   "cell_type": "code",
   "execution_count": 18,
   "id": "af2f476a",
   "metadata": {},
   "outputs": [
    {
     "data": {
      "text/plain": [
       "Index(['client_id', 'qty', 'shipping_price', 'subtotal', 'unit_cost',\n",
       "       'profit'],\n",
       "      dtype='object')"
      ]
     },
     "execution_count": 18,
     "metadata": {},
     "output_type": "execute_result"
    }
   ],
   "source": [
    "summary_data.columns"
   ]
  },
  {
   "cell_type": "code",
   "execution_count": 19,
   "id": "7be02867",
   "metadata": {},
   "outputs": [
    {
     "name": "stdout",
     "output_type": "stream",
     "text": [
      "   Client ID  Quantity  Shipping(millions)  Total Revenue(millions)  \\\n",
      "0      24741    239862            5.126448                70.176885   \n",
      "1      33615     64313            1.828985                 5.839032   \n",
      "2      38378     73667            3.429455                 8.384321   \n",
      "3      46820     75768            1.601449                 7.317356   \n",
      "4      66037     43018            1.395152                 7.995708   \n",
      "\n",
      "   Total Cost(millions)  Total Profit(millions)  \n",
      "0              0.017900              140.353771  \n",
      "1              0.021717               11.678064  \n",
      "2              0.021702               16.768642  \n",
      "3              0.018140               14.634712  \n",
      "4              0.021509               15.991417  \n"
     ]
    }
   ],
   "source": [
    "# Format the data and rename the columns to names suitable for presentation.\n",
    "summary_data = summary_data.rename(columns={\n",
    "                                            'client_id' : 'Client ID',\n",
    "                                            'qty' : 'Quantity'})\n",
    "# Define the money columns.\n",
    "money_columns = ['shipping_price','subtotal','unit_cost','profit']\n",
    "\n",
    "\n",
    "# Define a function that converts a dollar amount to millions.\n",
    "def currency_format_millions(x):\n",
    "    return x / 1000000\n",
    "\n",
    "# Apply the currency_format_millions function to only the money columns.\n",
    "for column in money_columns:\n",
    "    summary_data[column] = summary_data[column].apply(currency_format_millions)\n",
    "\n",
    "\n",
    "# Rename the columns to reflect the change in the money format. \n",
    "summary_data = summary_data.rename(columns ={\n",
    "                                            'shipping_price' : 'Shipping(millions)',\n",
    "                                            'subtotal' : 'Total Revenue(millions)',\n",
    "                                            'unit_cost' : 'Total Cost(millions)',\n",
    "                                            'profit' : 'Total Profit(millions)'})\n",
    "\n",
    "print(summary_data)"
   ]
  },
  {
   "cell_type": "code",
   "execution_count": 20,
   "id": "8ead0986",
   "metadata": {},
   "outputs": [
    {
     "data": {
      "text/html": [
       "<div>\n",
       "<style scoped>\n",
       "    .dataframe tbody tr th:only-of-type {\n",
       "        vertical-align: middle;\n",
       "    }\n",
       "\n",
       "    .dataframe tbody tr th {\n",
       "        vertical-align: top;\n",
       "    }\n",
       "\n",
       "    .dataframe thead th {\n",
       "        text-align: right;\n",
       "    }\n",
       "</style>\n",
       "<table border=\"1\" class=\"dataframe\">\n",
       "  <thead>\n",
       "    <tr style=\"text-align: right;\">\n",
       "      <th></th>\n",
       "      <th>Client ID</th>\n",
       "      <th>Quantity</th>\n",
       "      <th>Shipping(millions)</th>\n",
       "      <th>Total Revenue(millions)</th>\n",
       "      <th>Total Cost(millions)</th>\n",
       "      <th>Total Profit(millions)</th>\n",
       "    </tr>\n",
       "  </thead>\n",
       "  <tbody>\n",
       "    <tr>\n",
       "      <th>0</th>\n",
       "      <td>24741</td>\n",
       "      <td>239862</td>\n",
       "      <td>5.126448</td>\n",
       "      <td>70.176885</td>\n",
       "      <td>0.017900</td>\n",
       "      <td>140.353771</td>\n",
       "    </tr>\n",
       "    <tr>\n",
       "      <th>2</th>\n",
       "      <td>38378</td>\n",
       "      <td>73667</td>\n",
       "      <td>3.429455</td>\n",
       "      <td>8.384321</td>\n",
       "      <td>0.021702</td>\n",
       "      <td>16.768642</td>\n",
       "    </tr>\n",
       "    <tr>\n",
       "      <th>4</th>\n",
       "      <td>66037</td>\n",
       "      <td>43018</td>\n",
       "      <td>1.395152</td>\n",
       "      <td>7.995708</td>\n",
       "      <td>0.021509</td>\n",
       "      <td>15.991417</td>\n",
       "    </tr>\n",
       "    <tr>\n",
       "      <th>3</th>\n",
       "      <td>46820</td>\n",
       "      <td>75768</td>\n",
       "      <td>1.601449</td>\n",
       "      <td>7.317356</td>\n",
       "      <td>0.018140</td>\n",
       "      <td>14.634712</td>\n",
       "    </tr>\n",
       "    <tr>\n",
       "      <th>1</th>\n",
       "      <td>33615</td>\n",
       "      <td>64313</td>\n",
       "      <td>1.828985</td>\n",
       "      <td>5.839032</td>\n",
       "      <td>0.021717</td>\n",
       "      <td>11.678064</td>\n",
       "    </tr>\n",
       "  </tbody>\n",
       "</table>\n",
       "</div>"
      ],
      "text/plain": [
       "   Client ID  Quantity  Shipping(millions)  Total Revenue(millions)  \\\n",
       "0      24741    239862            5.126448                70.176885   \n",
       "2      38378     73667            3.429455                 8.384321   \n",
       "4      66037     43018            1.395152                 7.995708   \n",
       "3      46820     75768            1.601449                 7.317356   \n",
       "1      33615     64313            1.828985                 5.839032   \n",
       "\n",
       "   Total Cost(millions)  Total Profit(millions)  \n",
       "0              0.017900              140.353771  \n",
       "2              0.021702               16.768642  \n",
       "4              0.021509               15.991417  \n",
       "3              0.018140               14.634712  \n",
       "1              0.021717               11.678064  "
      ]
     },
     "execution_count": 20,
     "metadata": {},
     "output_type": "execute_result"
    }
   ],
   "source": [
    "# Sort the updated data by \"Total Profit (millions)\" form highest to lowest and assign the sort to a new DatFrame.\n",
    "sorted_profit = summary_data.sort_values(by='Total Profit(millions)', ascending=False)\n",
    "sorted_profit"
   ]
  },
  {
   "cell_type": "code",
   "execution_count": null,
   "id": "3fe3301e",
   "metadata": {},
   "outputs": [],
   "source": [
    "#Based on the provided data I have indentified our top 5 clients. Of the top 5 one stands out above the rest by over 100 million dollars."
   ]
  }
 ],
 "metadata": {
  "kernelspec": {
   "display_name": "Python 3 (ipykernel)",
   "language": "python",
   "name": "python3"
  },
  "language_info": {
   "codemirror_mode": {
    "name": "ipython",
    "version": 3
   },
   "file_extension": ".py",
   "mimetype": "text/x-python",
   "name": "python",
   "nbconvert_exporter": "python",
   "pygments_lexer": "ipython3",
   "version": "3.12.3"
  }
 },
 "nbformat": 4,
 "nbformat_minor": 5
}
